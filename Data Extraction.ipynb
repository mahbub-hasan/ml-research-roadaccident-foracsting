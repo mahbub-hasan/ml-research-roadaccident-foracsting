{
 "cells": [
  {
   "cell_type": "code",
   "execution_count": 1,
   "metadata": {},
   "outputs": [],
   "source": [
    "#import libraries\n",
    "import tensorflow as tf\n",
    "import pandas as pd\n",
    "import numpy as np\n"
   ]
  },
  {
   "cell_type": "code",
   "execution_count": 2,
   "metadata": {},
   "outputs": [],
   "source": [
    "#setting working tree directory\n",
    "import os\n",
    "os.chdir (\"c:\\\\users\\\\c_ton\\\\Documents\")"
   ]
  },
  {
   "cell_type": "code",
   "execution_count": 3,
   "metadata": {},
   "outputs": [],
   "source": [
    "#reading data\n",
    "data = pd.read_csv('./ROAD_ACCIDENT.csv')"
   ]
  },
  {
   "cell_type": "code",
   "execution_count": 4,
   "metadata": {},
   "outputs": [
    {
     "data": {
      "text/plain": [
       "Index(['Serial Number', 'Name of the Data Collect Source', 'Date',\n",
       "       'District where death(s) happened',\n",
       "       'Thana/Upazilla/Pourasava where Accident Happened',\n",
       "       'Number of Accident', 'Number of Death', 'Number of Injury',\n",
       "       'Age of Victim (Maximum Number of Accident Occurred in One Age Group)'],\n",
       "      dtype='object')"
      ]
     },
     "execution_count": 4,
     "metadata": {},
     "output_type": "execute_result"
    }
   ],
   "source": [
    "#printing column names\n",
    "data.columns"
   ]
  },
  {
   "cell_type": "code",
   "execution_count": 5,
   "metadata": {},
   "outputs": [
    {
     "data": {
      "text/html": [
       "<div>\n",
       "<style scoped>\n",
       "    .dataframe tbody tr th:only-of-type {\n",
       "        vertical-align: middle;\n",
       "    }\n",
       "\n",
       "    .dataframe tbody tr th {\n",
       "        vertical-align: top;\n",
       "    }\n",
       "\n",
       "    .dataframe thead th {\n",
       "        text-align: right;\n",
       "    }\n",
       "</style>\n",
       "<table border=\"1\" class=\"dataframe\">\n",
       "  <thead>\n",
       "    <tr style=\"text-align: right;\">\n",
       "      <th></th>\n",
       "      <th>Serial Number</th>\n",
       "      <th>Name of the Data Collect Source</th>\n",
       "      <th>Date</th>\n",
       "      <th>District where death(s) happened</th>\n",
       "      <th>Thana/Upazilla/Pourasava where Accident Happened</th>\n",
       "      <th>Number of Accident</th>\n",
       "      <th>Number of Death</th>\n",
       "      <th>Number of Injury</th>\n",
       "      <th>Age of Victim (Maximum Number of Accident Occurred in One Age Group)</th>\n",
       "    </tr>\n",
       "  </thead>\n",
       "  <tbody>\n",
       "    <tr>\n",
       "      <th>0</th>\n",
       "      <td>1</td>\n",
       "      <td>JANAKANTHA</td>\n",
       "      <td>1-Jan-15</td>\n",
       "      <td>PABNA</td>\n",
       "      <td>BERA</td>\n",
       "      <td>8</td>\n",
       "      <td>9</td>\n",
       "      <td>4</td>\n",
       "      <td>4</td>\n",
       "    </tr>\n",
       "    <tr>\n",
       "      <th>1</th>\n",
       "      <td>2</td>\n",
       "      <td>JANAKANTHA</td>\n",
       "      <td>2-Jan-15</td>\n",
       "      <td>GAZIPUR</td>\n",
       "      <td>TONGI</td>\n",
       "      <td>4</td>\n",
       "      <td>1</td>\n",
       "      <td>7</td>\n",
       "      <td>4</td>\n",
       "    </tr>\n",
       "    <tr>\n",
       "      <th>2</th>\n",
       "      <td>3</td>\n",
       "      <td>JANAKANTHA</td>\n",
       "      <td>3-Jan-15</td>\n",
       "      <td>RANGPUR</td>\n",
       "      <td>BADARGANJ</td>\n",
       "      <td>9</td>\n",
       "      <td>3</td>\n",
       "      <td>12</td>\n",
       "      <td>3</td>\n",
       "    </tr>\n",
       "    <tr>\n",
       "      <th>3</th>\n",
       "      <td>4</td>\n",
       "      <td>JANAKANTHA</td>\n",
       "      <td>4-Jan-15</td>\n",
       "      <td>GAZIPUR</td>\n",
       "      <td>SREEPUR</td>\n",
       "      <td>5</td>\n",
       "      <td>8</td>\n",
       "      <td>6</td>\n",
       "      <td>5</td>\n",
       "    </tr>\n",
       "    <tr>\n",
       "      <th>4</th>\n",
       "      <td>5</td>\n",
       "      <td>JANAKANTHA</td>\n",
       "      <td>5-Jan-15</td>\n",
       "      <td>RAJSHAHI</td>\n",
       "      <td>RAJPARA</td>\n",
       "      <td>7</td>\n",
       "      <td>5</td>\n",
       "      <td>6</td>\n",
       "      <td>5</td>\n",
       "    </tr>\n",
       "  </tbody>\n",
       "</table>\n",
       "</div>"
      ],
      "text/plain": [
       "   Serial Number Name of the Data Collect Source      Date  \\\n",
       "0              1                      JANAKANTHA  1-Jan-15   \n",
       "1              2                      JANAKANTHA  2-Jan-15   \n",
       "2              3                      JANAKANTHA  3-Jan-15   \n",
       "3              4                      JANAKANTHA  4-Jan-15   \n",
       "4              5                      JANAKANTHA  5-Jan-15   \n",
       "\n",
       "  District where death(s) happened  \\\n",
       "0                            PABNA   \n",
       "1                          GAZIPUR   \n",
       "2                          RANGPUR   \n",
       "3                          GAZIPUR   \n",
       "4                         RAJSHAHI   \n",
       "\n",
       "  Thana/Upazilla/Pourasava where Accident Happened  Number of Accident  \\\n",
       "0                                             BERA                   8   \n",
       "1                                           TONGI                    4   \n",
       "2                                        BADARGANJ                   9   \n",
       "3                                          SREEPUR                   5   \n",
       "4                                          RAJPARA                   7   \n",
       "\n",
       "   Number of Death  Number of Injury  \\\n",
       "0                9                 4   \n",
       "1                1                 7   \n",
       "2                3                12   \n",
       "3                8                 6   \n",
       "4                5                 6   \n",
       "\n",
       "   Age of Victim (Maximum Number of Accident Occurred in One Age Group)  \n",
       "0                                                  4                     \n",
       "1                                                  4                     \n",
       "2                                                  3                     \n",
       "3                                                  5                     \n",
       "4                                                  5                     "
      ]
     },
     "execution_count": 5,
     "metadata": {},
     "output_type": "execute_result"
    }
   ],
   "source": [
    "#viewing data\n",
    "data.head()\n"
   ]
  },
  {
   "cell_type": "code",
   "execution_count": 6,
   "metadata": {},
   "outputs": [
    {
     "data": {
      "text/plain": [
       "(2008, 9)"
      ]
     },
     "execution_count": 6,
     "metadata": {},
     "output_type": "execute_result"
    }
   ],
   "source": [
    "#cheaking shape of data\n",
    "data.shape\n"
   ]
  },
  {
   "cell_type": "code",
   "execution_count": 7,
   "metadata": {},
   "outputs": [
    {
     "data": {
      "text/html": [
       "<div>\n",
       "<style scoped>\n",
       "    .dataframe tbody tr th:only-of-type {\n",
       "        vertical-align: middle;\n",
       "    }\n",
       "\n",
       "    .dataframe tbody tr th {\n",
       "        vertical-align: top;\n",
       "    }\n",
       "\n",
       "    .dataframe thead th {\n",
       "        text-align: right;\n",
       "    }\n",
       "</style>\n",
       "<table border=\"1\" class=\"dataframe\">\n",
       "  <thead>\n",
       "    <tr style=\"text-align: right;\">\n",
       "      <th></th>\n",
       "      <th>Serial Number</th>\n",
       "      <th>Name of the Data Collect Source</th>\n",
       "      <th>Date</th>\n",
       "      <th>District where death(s) happened</th>\n",
       "      <th>Thana/Upazilla/Pourasava where Accident Happened</th>\n",
       "      <th>Number of Accident</th>\n",
       "      <th>Number of Death</th>\n",
       "      <th>Number of Injury</th>\n",
       "      <th>Age of Victim (Maximum Number of Accident Occurred in One Age Group)</th>\n",
       "    </tr>\n",
       "  </thead>\n",
       "  <tbody>\n",
       "  </tbody>\n",
       "</table>\n",
       "</div>"
      ],
      "text/plain": [
       "Empty DataFrame\n",
       "Columns: [Serial Number, Name of the Data Collect Source, Date, District where death(s) happened, Thana/Upazilla/Pourasava where Accident Happened, Number of Accident, Number of Death, Number of Injury, Age of Victim (Maximum Number of Accident Occurred in One Age Group)]\n",
       "Index: []"
      ]
     },
     "execution_count": 7,
     "metadata": {},
     "output_type": "execute_result"
    }
   ],
   "source": [
    "#checking the null value of the data set\n",
    "data[data.isnull().any(axis=1)].head()\n"
   ]
  },
  {
   "cell_type": "code",
   "execution_count": 8,
   "metadata": {},
   "outputs": [],
   "source": [
    "x=data.iloc[:,:-1]\n",
    "\n"
   ]
  },
  {
   "cell_type": "code",
   "execution_count": 9,
   "metadata": {},
   "outputs": [
    {
     "data": {
      "text/html": [
       "<div>\n",
       "<style scoped>\n",
       "    .dataframe tbody tr th:only-of-type {\n",
       "        vertical-align: middle;\n",
       "    }\n",
       "\n",
       "    .dataframe tbody tr th {\n",
       "        vertical-align: top;\n",
       "    }\n",
       "\n",
       "    .dataframe thead th {\n",
       "        text-align: right;\n",
       "    }\n",
       "</style>\n",
       "<table border=\"1\" class=\"dataframe\">\n",
       "  <thead>\n",
       "    <tr style=\"text-align: right;\">\n",
       "      <th></th>\n",
       "      <th>Serial Number</th>\n",
       "      <th>Name of the Data Collect Source</th>\n",
       "      <th>Date</th>\n",
       "      <th>District where death(s) happened</th>\n",
       "      <th>Thana/Upazilla/Pourasava where Accident Happened</th>\n",
       "      <th>Number of Accident</th>\n",
       "      <th>Number of Death</th>\n",
       "      <th>Number of Injury</th>\n",
       "    </tr>\n",
       "  </thead>\n",
       "  <tbody>\n",
       "    <tr>\n",
       "      <th>0</th>\n",
       "      <td>1</td>\n",
       "      <td>JANAKANTHA</td>\n",
       "      <td>1-Jan-15</td>\n",
       "      <td>PABNA</td>\n",
       "      <td>BERA</td>\n",
       "      <td>8</td>\n",
       "      <td>9</td>\n",
       "      <td>4</td>\n",
       "    </tr>\n",
       "    <tr>\n",
       "      <th>1</th>\n",
       "      <td>2</td>\n",
       "      <td>JANAKANTHA</td>\n",
       "      <td>2-Jan-15</td>\n",
       "      <td>GAZIPUR</td>\n",
       "      <td>TONGI</td>\n",
       "      <td>4</td>\n",
       "      <td>1</td>\n",
       "      <td>7</td>\n",
       "    </tr>\n",
       "    <tr>\n",
       "      <th>2</th>\n",
       "      <td>3</td>\n",
       "      <td>JANAKANTHA</td>\n",
       "      <td>3-Jan-15</td>\n",
       "      <td>RANGPUR</td>\n",
       "      <td>BADARGANJ</td>\n",
       "      <td>9</td>\n",
       "      <td>3</td>\n",
       "      <td>12</td>\n",
       "    </tr>\n",
       "    <tr>\n",
       "      <th>3</th>\n",
       "      <td>4</td>\n",
       "      <td>JANAKANTHA</td>\n",
       "      <td>4-Jan-15</td>\n",
       "      <td>GAZIPUR</td>\n",
       "      <td>SREEPUR</td>\n",
       "      <td>5</td>\n",
       "      <td>8</td>\n",
       "      <td>6</td>\n",
       "    </tr>\n",
       "    <tr>\n",
       "      <th>4</th>\n",
       "      <td>5</td>\n",
       "      <td>JANAKANTHA</td>\n",
       "      <td>5-Jan-15</td>\n",
       "      <td>RAJSHAHI</td>\n",
       "      <td>RAJPARA</td>\n",
       "      <td>7</td>\n",
       "      <td>5</td>\n",
       "      <td>6</td>\n",
       "    </tr>\n",
       "    <tr>\n",
       "      <th>...</th>\n",
       "      <td>...</td>\n",
       "      <td>...</td>\n",
       "      <td>...</td>\n",
       "      <td>...</td>\n",
       "      <td>...</td>\n",
       "      <td>...</td>\n",
       "      <td>...</td>\n",
       "      <td>...</td>\n",
       "    </tr>\n",
       "    <tr>\n",
       "      <th>2003</th>\n",
       "      <td>2004</td>\n",
       "      <td>DHAKA TRIBUNE</td>\n",
       "      <td>26-Jun-20</td>\n",
       "      <td>SATKHIRA</td>\n",
       "      <td>SATKHIRA SADAR</td>\n",
       "      <td>6</td>\n",
       "      <td>9</td>\n",
       "      <td>15</td>\n",
       "    </tr>\n",
       "    <tr>\n",
       "      <th>2004</th>\n",
       "      <td>2005</td>\n",
       "      <td>DHAKA TRIBUNE</td>\n",
       "      <td>27-Jun-20</td>\n",
       "      <td>RAJSHAHI</td>\n",
       "      <td>RAJSHAHI SADAR</td>\n",
       "      <td>8</td>\n",
       "      <td>2</td>\n",
       "      <td>11</td>\n",
       "    </tr>\n",
       "    <tr>\n",
       "      <th>2005</th>\n",
       "      <td>2006</td>\n",
       "      <td>DHAKA TRIBUNE</td>\n",
       "      <td>28-Jun-20</td>\n",
       "      <td>NAOGAON</td>\n",
       "      <td>DHAMOIRHAT</td>\n",
       "      <td>12</td>\n",
       "      <td>17</td>\n",
       "      <td>2</td>\n",
       "    </tr>\n",
       "    <tr>\n",
       "      <th>2006</th>\n",
       "      <td>2007</td>\n",
       "      <td>DHAKA TRIBUNE</td>\n",
       "      <td>29-Jun-20</td>\n",
       "      <td>NAOGAON</td>\n",
       "      <td>MOHADEVPUR</td>\n",
       "      <td>4</td>\n",
       "      <td>7</td>\n",
       "      <td>1</td>\n",
       "    </tr>\n",
       "    <tr>\n",
       "      <th>2007</th>\n",
       "      <td>2008</td>\n",
       "      <td>DHAKA TRIBUNE</td>\n",
       "      <td>30-Jun-20</td>\n",
       "      <td>KUSHTIA</td>\n",
       "      <td>KUSHTIA SADAR</td>\n",
       "      <td>7</td>\n",
       "      <td>4</td>\n",
       "      <td>1</td>\n",
       "    </tr>\n",
       "  </tbody>\n",
       "</table>\n",
       "<p>2008 rows × 8 columns</p>\n",
       "</div>"
      ],
      "text/plain": [
       "      Serial Number Name of the Data Collect Source       Date  \\\n",
       "0                 1                      JANAKANTHA   1-Jan-15   \n",
       "1                 2                      JANAKANTHA   2-Jan-15   \n",
       "2                 3                      JANAKANTHA   3-Jan-15   \n",
       "3                 4                      JANAKANTHA   4-Jan-15   \n",
       "4                 5                      JANAKANTHA   5-Jan-15   \n",
       "...             ...                             ...        ...   \n",
       "2003           2004                   DHAKA TRIBUNE  26-Jun-20   \n",
       "2004           2005                   DHAKA TRIBUNE  27-Jun-20   \n",
       "2005           2006                   DHAKA TRIBUNE  28-Jun-20   \n",
       "2006           2007                   DHAKA TRIBUNE  29-Jun-20   \n",
       "2007           2008                   DHAKA TRIBUNE  30-Jun-20   \n",
       "\n",
       "     District where death(s) happened  \\\n",
       "0                               PABNA   \n",
       "1                             GAZIPUR   \n",
       "2                             RANGPUR   \n",
       "3                             GAZIPUR   \n",
       "4                            RAJSHAHI   \n",
       "...                               ...   \n",
       "2003                         SATKHIRA   \n",
       "2004                         RAJSHAHI   \n",
       "2005                          NAOGAON   \n",
       "2006                          NAOGAON   \n",
       "2007                          KUSHTIA   \n",
       "\n",
       "     Thana/Upazilla/Pourasava where Accident Happened  Number of Accident  \\\n",
       "0                                                BERA                   8   \n",
       "1                                              TONGI                    4   \n",
       "2                                           BADARGANJ                   9   \n",
       "3                                             SREEPUR                   5   \n",
       "4                                             RAJPARA                   7   \n",
       "...                                               ...                 ...   \n",
       "2003                                   SATKHIRA SADAR                   6   \n",
       "2004                                   RAJSHAHI SADAR                   8   \n",
       "2005                                       DHAMOIRHAT                  12   \n",
       "2006                                       MOHADEVPUR                   4   \n",
       "2007                                    KUSHTIA SADAR                   7   \n",
       "\n",
       "      Number of Death  Number of Injury  \n",
       "0                   9                 4  \n",
       "1                   1                 7  \n",
       "2                   3                12  \n",
       "3                   8                 6  \n",
       "4                   5                 6  \n",
       "...               ...               ...  \n",
       "2003                9                15  \n",
       "2004                2                11  \n",
       "2005               17                 2  \n",
       "2006                7                 1  \n",
       "2007                4                 1  \n",
       "\n",
       "[2008 rows x 8 columns]"
      ]
     },
     "execution_count": 9,
     "metadata": {},
     "output_type": "execute_result"
    }
   ],
   "source": [
    "x"
   ]
  },
  {
   "cell_type": "code",
   "execution_count": 10,
   "metadata": {},
   "outputs": [],
   "source": [
    "y=data.iloc[:,:4]"
   ]
  },
  {
   "cell_type": "code",
   "execution_count": 11,
   "metadata": {},
   "outputs": [
    {
     "data": {
      "text/html": [
       "<div>\n",
       "<style scoped>\n",
       "    .dataframe tbody tr th:only-of-type {\n",
       "        vertical-align: middle;\n",
       "    }\n",
       "\n",
       "    .dataframe tbody tr th {\n",
       "        vertical-align: top;\n",
       "    }\n",
       "\n",
       "    .dataframe thead th {\n",
       "        text-align: right;\n",
       "    }\n",
       "</style>\n",
       "<table border=\"1\" class=\"dataframe\">\n",
       "  <thead>\n",
       "    <tr style=\"text-align: right;\">\n",
       "      <th></th>\n",
       "      <th>Serial Number</th>\n",
       "      <th>Name of the Data Collect Source</th>\n",
       "      <th>Date</th>\n",
       "      <th>District where death(s) happened</th>\n",
       "    </tr>\n",
       "  </thead>\n",
       "  <tbody>\n",
       "    <tr>\n",
       "      <th>0</th>\n",
       "      <td>1</td>\n",
       "      <td>JANAKANTHA</td>\n",
       "      <td>1-Jan-15</td>\n",
       "      <td>PABNA</td>\n",
       "    </tr>\n",
       "    <tr>\n",
       "      <th>1</th>\n",
       "      <td>2</td>\n",
       "      <td>JANAKANTHA</td>\n",
       "      <td>2-Jan-15</td>\n",
       "      <td>GAZIPUR</td>\n",
       "    </tr>\n",
       "    <tr>\n",
       "      <th>2</th>\n",
       "      <td>3</td>\n",
       "      <td>JANAKANTHA</td>\n",
       "      <td>3-Jan-15</td>\n",
       "      <td>RANGPUR</td>\n",
       "    </tr>\n",
       "    <tr>\n",
       "      <th>3</th>\n",
       "      <td>4</td>\n",
       "      <td>JANAKANTHA</td>\n",
       "      <td>4-Jan-15</td>\n",
       "      <td>GAZIPUR</td>\n",
       "    </tr>\n",
       "    <tr>\n",
       "      <th>4</th>\n",
       "      <td>5</td>\n",
       "      <td>JANAKANTHA</td>\n",
       "      <td>5-Jan-15</td>\n",
       "      <td>RAJSHAHI</td>\n",
       "    </tr>\n",
       "    <tr>\n",
       "      <th>...</th>\n",
       "      <td>...</td>\n",
       "      <td>...</td>\n",
       "      <td>...</td>\n",
       "      <td>...</td>\n",
       "    </tr>\n",
       "    <tr>\n",
       "      <th>2003</th>\n",
       "      <td>2004</td>\n",
       "      <td>DHAKA TRIBUNE</td>\n",
       "      <td>26-Jun-20</td>\n",
       "      <td>SATKHIRA</td>\n",
       "    </tr>\n",
       "    <tr>\n",
       "      <th>2004</th>\n",
       "      <td>2005</td>\n",
       "      <td>DHAKA TRIBUNE</td>\n",
       "      <td>27-Jun-20</td>\n",
       "      <td>RAJSHAHI</td>\n",
       "    </tr>\n",
       "    <tr>\n",
       "      <th>2005</th>\n",
       "      <td>2006</td>\n",
       "      <td>DHAKA TRIBUNE</td>\n",
       "      <td>28-Jun-20</td>\n",
       "      <td>NAOGAON</td>\n",
       "    </tr>\n",
       "    <tr>\n",
       "      <th>2006</th>\n",
       "      <td>2007</td>\n",
       "      <td>DHAKA TRIBUNE</td>\n",
       "      <td>29-Jun-20</td>\n",
       "      <td>NAOGAON</td>\n",
       "    </tr>\n",
       "    <tr>\n",
       "      <th>2007</th>\n",
       "      <td>2008</td>\n",
       "      <td>DHAKA TRIBUNE</td>\n",
       "      <td>30-Jun-20</td>\n",
       "      <td>KUSHTIA</td>\n",
       "    </tr>\n",
       "  </tbody>\n",
       "</table>\n",
       "<p>2008 rows × 4 columns</p>\n",
       "</div>"
      ],
      "text/plain": [
       "      Serial Number Name of the Data Collect Source       Date  \\\n",
       "0                 1                      JANAKANTHA   1-Jan-15   \n",
       "1                 2                      JANAKANTHA   2-Jan-15   \n",
       "2                 3                      JANAKANTHA   3-Jan-15   \n",
       "3                 4                      JANAKANTHA   4-Jan-15   \n",
       "4                 5                      JANAKANTHA   5-Jan-15   \n",
       "...             ...                             ...        ...   \n",
       "2003           2004                   DHAKA TRIBUNE  26-Jun-20   \n",
       "2004           2005                   DHAKA TRIBUNE  27-Jun-20   \n",
       "2005           2006                   DHAKA TRIBUNE  28-Jun-20   \n",
       "2006           2007                   DHAKA TRIBUNE  29-Jun-20   \n",
       "2007           2008                   DHAKA TRIBUNE  30-Jun-20   \n",
       "\n",
       "     District where death(s) happened  \n",
       "0                               PABNA  \n",
       "1                             GAZIPUR  \n",
       "2                             RANGPUR  \n",
       "3                             GAZIPUR  \n",
       "4                            RAJSHAHI  \n",
       "...                               ...  \n",
       "2003                         SATKHIRA  \n",
       "2004                         RAJSHAHI  \n",
       "2005                          NAOGAON  \n",
       "2006                          NAOGAON  \n",
       "2007                          KUSHTIA  \n",
       "\n",
       "[2008 rows x 4 columns]"
      ]
     },
     "execution_count": 11,
     "metadata": {},
     "output_type": "execute_result"
    }
   ],
   "source": [
    "y"
   ]
  },
  {
   "cell_type": "code",
   "execution_count": 12,
   "metadata": {},
   "outputs": [],
   "source": [
    "#convert datafrom to numpy array\n",
    "data = data.to_numpy()\n"
   ]
  },
  {
   "cell_type": "code",
   "execution_count": 13,
   "metadata": {},
   "outputs": [
    {
     "data": {
      "text/plain": [
       "(2008, 9)"
      ]
     },
     "execution_count": 13,
     "metadata": {},
     "output_type": "execute_result"
    }
   ],
   "source": [
    "data.shape"
   ]
  },
  {
   "cell_type": "code",
   "execution_count": 14,
   "metadata": {},
   "outputs": [],
   "source": [
    "# get training and testing dataset from numpy\n",
    "training = data[0:1808]\n",
    "testing = data[1808:2008]"
   ]
  },
  {
   "cell_type": "code",
   "execution_count": 15,
   "metadata": {},
   "outputs": [
    {
     "name": "stdout",
     "output_type": "stream",
     "text": [
      "(1808, 9)\n",
      "(200, 9)\n"
     ]
    }
   ],
   "source": [
    "#print training and testing dataset in shape\n",
    "print (training.shape)\n",
    "print (testing.shape)"
   ]
  },
  {
   "cell_type": "code",
   "execution_count": 16,
   "metadata": {},
   "outputs": [],
   "source": [
    "#separate true lebel from training and testing dataset\n",
    "training_features = training [:,0:-1]\n",
    "training_labels = training [:,-1]\n",
    "testing_features = testing [:,0:-1]\n",
    "testing_labels = testing [:,-1]"
   ]
  },
  {
   "cell_type": "code",
   "execution_count": 17,
   "metadata": {},
   "outputs": [
    {
     "name": "stdout",
     "output_type": "stream",
     "text": [
      "(1808, 8)\n",
      "(1808,)\n"
     ]
    }
   ],
   "source": [
    "#print shape of import that testing feature and true lavels that is traing lavels\n",
    "print (training_features.shape)\n",
    "print (training_labels.shape)"
   ]
  },
  {
   "cell_type": "code",
   "execution_count": 18,
   "metadata": {},
   "outputs": [
    {
     "data": {
      "text/plain": [
       "(8,)"
      ]
     },
     "execution_count": 18,
     "metadata": {},
     "output_type": "execute_result"
    }
   ],
   "source": [
    "#checking input shape to evolutionary algorithm\n",
    "training_features[0].shape\n"
   ]
  },
  {
   "cell_type": "code",
   "execution_count": 19,
   "metadata": {},
   "outputs": [],
   "source": [
    "#import classes\n",
    "from tensorflow.keras.models import Sequential\n",
    "from tensorflow.keras.layers import Input,Dense,Dropout\n"
   ]
  },
  {
   "cell_type": "code",
   "execution_count": 20,
   "metadata": {},
   "outputs": [],
   "source": [
    "# model defination\n",
    "model= Sequential()\n",
    "model.add (Input(shape=(8,)))\n",
    "model.add (Dense(16,activation='relu'))\n",
    "model.add(Dropout(0.2))\n",
    "model.add(Dense(8,activation='relu'))\n",
    "model.add(Dropout(0.2))\n",
    "model.add(Dense(1,activation='sigmoid'))"
   ]
  },
  {
   "cell_type": "code",
   "execution_count": 21,
   "metadata": {},
   "outputs": [],
   "source": [
    "# configure model training\n",
    "model.compile(optimizer='sgd',loss='binary_crossentropy', metrics=['accuracy'])"
   ]
  }
 ],
 "metadata": {
  "kernelspec": {
   "display_name": "Python 3",
   "language": "python",
   "name": "python3"
  },
  "language_info": {
   "codemirror_mode": {
    "name": "ipython",
    "version": 3
   },
   "file_extension": ".py",
   "mimetype": "text/x-python",
   "name": "python",
   "nbconvert_exporter": "python",
   "pygments_lexer": "ipython3",
   "version": "3.8.8"
  }
 },
 "nbformat": 4,
 "nbformat_minor": 4
}
