{
 "cells": [
  {
   "cell_type": "code",
   "execution_count": 23,
   "metadata": {},
   "outputs": [],
   "source": [
    "import numpy as np\n",
    "import seaborn as sns\n",
    "import pandas as pd\n",
    "import matplotlib.pylab as plt\n",
    "%matplotlib inline"
   ]
  },
  {
   "cell_type": "code",
   "execution_count": 31,
   "metadata": {},
   "outputs": [],
   "source": [
    "import os\n",
    "os.chdir (\"c:\\\\users\\\\c_ton\\\\Documents\")"
   ]
  },
  {
   "cell_type": "code",
   "execution_count": 35,
   "metadata": {},
   "outputs": [],
   "source": [
    "#reading data\n",
    "data = pd.read_csv('./ROAD_ACCIDENT.csv')"
   ]
  },
  {
   "cell_type": "code",
   "execution_count": 37,
   "metadata": {},
   "outputs": [
    {
     "data": {
      "text/html": [
       "<div>\n",
       "<style scoped>\n",
       "    .dataframe tbody tr th:only-of-type {\n",
       "        vertical-align: middle;\n",
       "    }\n",
       "\n",
       "    .dataframe tbody tr th {\n",
       "        vertical-align: top;\n",
       "    }\n",
       "\n",
       "    .dataframe thead th {\n",
       "        text-align: right;\n",
       "    }\n",
       "</style>\n",
       "<table border=\"1\" class=\"dataframe\">\n",
       "  <thead>\n",
       "    <tr style=\"text-align: right;\">\n",
       "      <th></th>\n",
       "      <th>Serial Number</th>\n",
       "      <th>Name of the Data Collect Source</th>\n",
       "      <th>Date</th>\n",
       "      <th>District where death(s) happened</th>\n",
       "      <th>Thana/Upazilla/Pourasava where Accident Happened</th>\n",
       "      <th>Number of Accident</th>\n",
       "      <th>Number of Death</th>\n",
       "      <th>Number of Injury</th>\n",
       "      <th>Age of Victim (Maximum Number of Accident Occurred in One Age Group)</th>\n",
       "    </tr>\n",
       "  </thead>\n",
       "  <tbody>\n",
       "    <tr>\n",
       "      <th>0</th>\n",
       "      <td>1</td>\n",
       "      <td>JANAKANTHA</td>\n",
       "      <td>1-Jan-15</td>\n",
       "      <td>PABNA</td>\n",
       "      <td>BERA</td>\n",
       "      <td>8</td>\n",
       "      <td>9</td>\n",
       "      <td>4</td>\n",
       "      <td>4</td>\n",
       "    </tr>\n",
       "    <tr>\n",
       "      <th>1</th>\n",
       "      <td>2</td>\n",
       "      <td>JANAKANTHA</td>\n",
       "      <td>2-Jan-15</td>\n",
       "      <td>GAZIPUR</td>\n",
       "      <td>TONGI</td>\n",
       "      <td>4</td>\n",
       "      <td>1</td>\n",
       "      <td>7</td>\n",
       "      <td>4</td>\n",
       "    </tr>\n",
       "    <tr>\n",
       "      <th>2</th>\n",
       "      <td>3</td>\n",
       "      <td>JANAKANTHA</td>\n",
       "      <td>3-Jan-15</td>\n",
       "      <td>RANGPUR</td>\n",
       "      <td>BADARGANJ</td>\n",
       "      <td>9</td>\n",
       "      <td>3</td>\n",
       "      <td>12</td>\n",
       "      <td>3</td>\n",
       "    </tr>\n",
       "    <tr>\n",
       "      <th>3</th>\n",
       "      <td>4</td>\n",
       "      <td>JANAKANTHA</td>\n",
       "      <td>4-Jan-15</td>\n",
       "      <td>GAZIPUR</td>\n",
       "      <td>SREEPUR</td>\n",
       "      <td>5</td>\n",
       "      <td>8</td>\n",
       "      <td>6</td>\n",
       "      <td>5</td>\n",
       "    </tr>\n",
       "    <tr>\n",
       "      <th>4</th>\n",
       "      <td>5</td>\n",
       "      <td>JANAKANTHA</td>\n",
       "      <td>5-Jan-15</td>\n",
       "      <td>RAJSHAHI</td>\n",
       "      <td>RAJPARA</td>\n",
       "      <td>7</td>\n",
       "      <td>5</td>\n",
       "      <td>6</td>\n",
       "      <td>5</td>\n",
       "    </tr>\n",
       "  </tbody>\n",
       "</table>\n",
       "</div>"
      ],
      "text/plain": [
       "   Serial Number Name of the Data Collect Source      Date  \\\n",
       "0              1                      JANAKANTHA  1-Jan-15   \n",
       "1              2                      JANAKANTHA  2-Jan-15   \n",
       "2              3                      JANAKANTHA  3-Jan-15   \n",
       "3              4                      JANAKANTHA  4-Jan-15   \n",
       "4              5                      JANAKANTHA  5-Jan-15   \n",
       "\n",
       "  District where death(s) happened  \\\n",
       "0                            PABNA   \n",
       "1                          GAZIPUR   \n",
       "2                          RANGPUR   \n",
       "3                          GAZIPUR   \n",
       "4                         RAJSHAHI   \n",
       "\n",
       "  Thana/Upazilla/Pourasava where Accident Happened  Number of Accident  \\\n",
       "0                                             BERA                   8   \n",
       "1                                           TONGI                    4   \n",
       "2                                        BADARGANJ                   9   \n",
       "3                                          SREEPUR                   5   \n",
       "4                                          RAJPARA                   7   \n",
       "\n",
       "   Number of Death  Number of Injury  \\\n",
       "0                9                 4   \n",
       "1                1                 7   \n",
       "2                3                12   \n",
       "3                8                 6   \n",
       "4                5                 6   \n",
       "\n",
       "   Age of Victim (Maximum Number of Accident Occurred in One Age Group)  \n",
       "0                                                  4                     \n",
       "1                                                  4                     \n",
       "2                                                  3                     \n",
       "3                                                  5                     \n",
       "4                                                  5                     "
      ]
     },
     "execution_count": 37,
     "metadata": {},
     "output_type": "execute_result"
    }
   ],
   "source": [
    "data.head()"
   ]
  },
  {
   "cell_type": "code",
   "execution_count": 38,
   "metadata": {},
   "outputs": [
    {
     "data": {
      "text/html": [
       "<div>\n",
       "<style scoped>\n",
       "    .dataframe tbody tr th:only-of-type {\n",
       "        vertical-align: middle;\n",
       "    }\n",
       "\n",
       "    .dataframe tbody tr th {\n",
       "        vertical-align: top;\n",
       "    }\n",
       "\n",
       "    .dataframe thead th {\n",
       "        text-align: right;\n",
       "    }\n",
       "</style>\n",
       "<table border=\"1\" class=\"dataframe\">\n",
       "  <thead>\n",
       "    <tr style=\"text-align: right;\">\n",
       "      <th></th>\n",
       "      <th>Serial Number</th>\n",
       "      <th>Name of the Data Collect Source</th>\n",
       "      <th>Date</th>\n",
       "      <th>District where death(s) happened</th>\n",
       "      <th>Thana/Upazilla/Pourasava where Accident Happened</th>\n",
       "      <th>Number of Accident</th>\n",
       "      <th>Number of Death</th>\n",
       "      <th>Number of Injury</th>\n",
       "      <th>Age of Victim (Maximum Number of Accident Occurred in One Age Group)</th>\n",
       "    </tr>\n",
       "  </thead>\n",
       "  <tbody>\n",
       "    <tr>\n",
       "      <th>2003</th>\n",
       "      <td>2004</td>\n",
       "      <td>DHAKA TRIBUNE</td>\n",
       "      <td>26-Jun-20</td>\n",
       "      <td>SATKHIRA</td>\n",
       "      <td>SATKHIRA SADAR</td>\n",
       "      <td>6</td>\n",
       "      <td>9</td>\n",
       "      <td>15</td>\n",
       "      <td>5</td>\n",
       "    </tr>\n",
       "    <tr>\n",
       "      <th>2004</th>\n",
       "      <td>2005</td>\n",
       "      <td>DHAKA TRIBUNE</td>\n",
       "      <td>27-Jun-20</td>\n",
       "      <td>RAJSHAHI</td>\n",
       "      <td>RAJSHAHI SADAR</td>\n",
       "      <td>8</td>\n",
       "      <td>2</td>\n",
       "      <td>11</td>\n",
       "      <td>4</td>\n",
       "    </tr>\n",
       "    <tr>\n",
       "      <th>2005</th>\n",
       "      <td>2006</td>\n",
       "      <td>DHAKA TRIBUNE</td>\n",
       "      <td>28-Jun-20</td>\n",
       "      <td>NAOGAON</td>\n",
       "      <td>DHAMOIRHAT</td>\n",
       "      <td>12</td>\n",
       "      <td>17</td>\n",
       "      <td>2</td>\n",
       "      <td>3</td>\n",
       "    </tr>\n",
       "    <tr>\n",
       "      <th>2006</th>\n",
       "      <td>2007</td>\n",
       "      <td>DHAKA TRIBUNE</td>\n",
       "      <td>29-Jun-20</td>\n",
       "      <td>NAOGAON</td>\n",
       "      <td>MOHADEVPUR</td>\n",
       "      <td>4</td>\n",
       "      <td>7</td>\n",
       "      <td>1</td>\n",
       "      <td>4</td>\n",
       "    </tr>\n",
       "    <tr>\n",
       "      <th>2007</th>\n",
       "      <td>2008</td>\n",
       "      <td>DHAKA TRIBUNE</td>\n",
       "      <td>30-Jun-20</td>\n",
       "      <td>KUSHTIA</td>\n",
       "      <td>KUSHTIA SADAR</td>\n",
       "      <td>7</td>\n",
       "      <td>4</td>\n",
       "      <td>1</td>\n",
       "      <td>6</td>\n",
       "    </tr>\n",
       "  </tbody>\n",
       "</table>\n",
       "</div>"
      ],
      "text/plain": [
       "      Serial Number Name of the Data Collect Source       Date  \\\n",
       "2003           2004                   DHAKA TRIBUNE  26-Jun-20   \n",
       "2004           2005                   DHAKA TRIBUNE  27-Jun-20   \n",
       "2005           2006                   DHAKA TRIBUNE  28-Jun-20   \n",
       "2006           2007                   DHAKA TRIBUNE  29-Jun-20   \n",
       "2007           2008                   DHAKA TRIBUNE  30-Jun-20   \n",
       "\n",
       "     District where death(s) happened  \\\n",
       "2003                         SATKHIRA   \n",
       "2004                         RAJSHAHI   \n",
       "2005                          NAOGAON   \n",
       "2006                          NAOGAON   \n",
       "2007                          KUSHTIA   \n",
       "\n",
       "     Thana/Upazilla/Pourasava where Accident Happened  Number of Accident  \\\n",
       "2003                                   SATKHIRA SADAR                   6   \n",
       "2004                                   RAJSHAHI SADAR                   8   \n",
       "2005                                       DHAMOIRHAT                  12   \n",
       "2006                                       MOHADEVPUR                   4   \n",
       "2007                                    KUSHTIA SADAR                   7   \n",
       "\n",
       "      Number of Death  Number of Injury  \\\n",
       "2003                9                15   \n",
       "2004                2                11   \n",
       "2005               17                 2   \n",
       "2006                7                 1   \n",
       "2007                4                 1   \n",
       "\n",
       "      Age of Victim (Maximum Number of Accident Occurred in One Age Group)  \n",
       "2003                                                  5                     \n",
       "2004                                                  4                     \n",
       "2005                                                  3                     \n",
       "2006                                                  4                     \n",
       "2007                                                  6                     "
      ]
     },
     "execution_count": 38,
     "metadata": {},
     "output_type": "execute_result"
    }
   ],
   "source": [
    "data.tail()"
   ]
  },
  {
   "cell_type": "code",
   "execution_count": 29,
   "metadata": {},
   "outputs": [
    {
     "data": {
      "text/plain": [
       "Index(['Serial Number', 'Name of the Data Collect Source', 'Date',\n",
       "       'District where death(s) happened',\n",
       "       'Thana/Upazilla/Pourasava where Accident Happened',\n",
       "       'Number of Accident', 'Number of Death', 'Number of Injury',\n",
       "       'Age of Victim (Maximum Number of Accident Occurred in One Age Group)'],\n",
       "      dtype='object')"
      ]
     },
     "execution_count": 29,
     "metadata": {},
     "output_type": "execute_result"
    }
   ],
   "source": [
    "data.columns"
   ]
  },
  {
   "cell_type": "code",
   "execution_count": 7,
   "metadata": {},
   "outputs": [
    {
     "data": {
      "text/plain": [
       "(2008, 9)"
      ]
     },
     "execution_count": 7,
     "metadata": {},
     "output_type": "execute_result"
    }
   ],
   "source": [
    "data.shape\n"
   ]
  },
  {
   "cell_type": "code",
   "execution_count": 8,
   "metadata": {},
   "outputs": [
    {
     "data": {
      "text/html": [
       "<div>\n",
       "<style scoped>\n",
       "    .dataframe tbody tr th:only-of-type {\n",
       "        vertical-align: middle;\n",
       "    }\n",
       "\n",
       "    .dataframe tbody tr th {\n",
       "        vertical-align: top;\n",
       "    }\n",
       "\n",
       "    .dataframe thead th {\n",
       "        text-align: right;\n",
       "    }\n",
       "</style>\n",
       "<table border=\"1\" class=\"dataframe\">\n",
       "  <thead>\n",
       "    <tr style=\"text-align: right;\">\n",
       "      <th></th>\n",
       "      <th>Serial Number</th>\n",
       "      <th>Number of Accident</th>\n",
       "      <th>Number of Death</th>\n",
       "      <th>Number of Injury</th>\n",
       "      <th>Age of Victim (Maximum Number of Accident Occurred in One Age Group)</th>\n",
       "    </tr>\n",
       "  </thead>\n",
       "  <tbody>\n",
       "    <tr>\n",
       "      <th>count</th>\n",
       "      <td>2008.00000</td>\n",
       "      <td>2008.000000</td>\n",
       "      <td>2008.000000</td>\n",
       "      <td>2008.000000</td>\n",
       "      <td>2008.000000</td>\n",
       "    </tr>\n",
       "    <tr>\n",
       "      <th>mean</th>\n",
       "      <td>1004.50000</td>\n",
       "      <td>6.701195</td>\n",
       "      <td>6.654382</td>\n",
       "      <td>5.875000</td>\n",
       "      <td>4.419821</td>\n",
       "    </tr>\n",
       "    <tr>\n",
       "      <th>std</th>\n",
       "      <td>579.80399</td>\n",
       "      <td>3.681565</td>\n",
       "      <td>5.103226</td>\n",
       "      <td>3.909261</td>\n",
       "      <td>0.899286</td>\n",
       "    </tr>\n",
       "    <tr>\n",
       "      <th>min</th>\n",
       "      <td>1.00000</td>\n",
       "      <td>1.000000</td>\n",
       "      <td>1.000000</td>\n",
       "      <td>1.000000</td>\n",
       "      <td>1.000000</td>\n",
       "    </tr>\n",
       "    <tr>\n",
       "      <th>25%</th>\n",
       "      <td>502.75000</td>\n",
       "      <td>4.000000</td>\n",
       "      <td>3.000000</td>\n",
       "      <td>3.000000</td>\n",
       "      <td>4.000000</td>\n",
       "    </tr>\n",
       "    <tr>\n",
       "      <th>50%</th>\n",
       "      <td>1004.50000</td>\n",
       "      <td>7.000000</td>\n",
       "      <td>5.000000</td>\n",
       "      <td>5.000000</td>\n",
       "      <td>5.000000</td>\n",
       "    </tr>\n",
       "    <tr>\n",
       "      <th>75%</th>\n",
       "      <td>1506.25000</td>\n",
       "      <td>9.000000</td>\n",
       "      <td>9.000000</td>\n",
       "      <td>8.000000</td>\n",
       "      <td>5.000000</td>\n",
       "    </tr>\n",
       "    <tr>\n",
       "      <th>max</th>\n",
       "      <td>2008.00000</td>\n",
       "      <td>17.000000</td>\n",
       "      <td>21.000000</td>\n",
       "      <td>22.000000</td>\n",
       "      <td>6.000000</td>\n",
       "    </tr>\n",
       "  </tbody>\n",
       "</table>\n",
       "</div>"
      ],
      "text/plain": [
       "       Serial Number  Number of Accident  Number of Death  Number of Injury  \\\n",
       "count     2008.00000         2008.000000      2008.000000       2008.000000   \n",
       "mean      1004.50000            6.701195         6.654382          5.875000   \n",
       "std        579.80399            3.681565         5.103226          3.909261   \n",
       "min          1.00000            1.000000         1.000000          1.000000   \n",
       "25%        502.75000            4.000000         3.000000          3.000000   \n",
       "50%       1004.50000            7.000000         5.000000          5.000000   \n",
       "75%       1506.25000            9.000000         9.000000          8.000000   \n",
       "max       2008.00000           17.000000        21.000000         22.000000   \n",
       "\n",
       "       Age of Victim (Maximum Number of Accident Occurred in One Age Group)  \n",
       "count                                        2008.000000                     \n",
       "mean                                            4.419821                     \n",
       "std                                             0.899286                     \n",
       "min                                             1.000000                     \n",
       "25%                                             4.000000                     \n",
       "50%                                             5.000000                     \n",
       "75%                                             5.000000                     \n",
       "max                                             6.000000                     "
      ]
     },
     "execution_count": 8,
     "metadata": {},
     "output_type": "execute_result"
    }
   ],
   "source": [
    "data.describe()"
   ]
  },
  {
   "cell_type": "markdown",
   "metadata": {},
   "source": [
    "data.isnull().sum()"
   ]
  },
  {
   "cell_type": "code",
   "execution_count": 9,
   "metadata": {},
   "outputs": [
    {
     "data": {
      "text/html": [
       "<div>\n",
       "<style scoped>\n",
       "    .dataframe tbody tr th:only-of-type {\n",
       "        vertical-align: middle;\n",
       "    }\n",
       "\n",
       "    .dataframe tbody tr th {\n",
       "        vertical-align: top;\n",
       "    }\n",
       "\n",
       "    .dataframe thead th {\n",
       "        text-align: right;\n",
       "    }\n",
       "</style>\n",
       "<table border=\"1\" class=\"dataframe\">\n",
       "  <thead>\n",
       "    <tr style=\"text-align: right;\">\n",
       "      <th></th>\n",
       "      <th>Serial Number</th>\n",
       "      <th>Name of the Data Collect Source</th>\n",
       "      <th>Date</th>\n",
       "      <th>District where death(s) happened</th>\n",
       "      <th>Thana/Upazilla/Pourasava where Accident Happened</th>\n",
       "      <th>Number of Accident</th>\n",
       "      <th>Number of Death</th>\n",
       "      <th>Number of Injury</th>\n",
       "      <th>Age of Victim (Maximum Number of Accident Occurred in One Age Group)</th>\n",
       "    </tr>\n",
       "  </thead>\n",
       "  <tbody>\n",
       "    <tr>\n",
       "      <th>0</th>\n",
       "      <td>1</td>\n",
       "      <td>JANAKANTHA</td>\n",
       "      <td>1-Jan-15</td>\n",
       "      <td>PABNA</td>\n",
       "      <td>BERA</td>\n",
       "      <td>8</td>\n",
       "      <td>9</td>\n",
       "      <td>4</td>\n",
       "      <td>4</td>\n",
       "    </tr>\n",
       "    <tr>\n",
       "      <th>1</th>\n",
       "      <td>2</td>\n",
       "      <td>JANAKANTHA</td>\n",
       "      <td>2-Jan-15</td>\n",
       "      <td>GAZIPUR</td>\n",
       "      <td>TONGI</td>\n",
       "      <td>4</td>\n",
       "      <td>1</td>\n",
       "      <td>7</td>\n",
       "      <td>4</td>\n",
       "    </tr>\n",
       "    <tr>\n",
       "      <th>2</th>\n",
       "      <td>3</td>\n",
       "      <td>JANAKANTHA</td>\n",
       "      <td>3-Jan-15</td>\n",
       "      <td>RANGPUR</td>\n",
       "      <td>BADARGANJ</td>\n",
       "      <td>9</td>\n",
       "      <td>3</td>\n",
       "      <td>12</td>\n",
       "      <td>3</td>\n",
       "    </tr>\n",
       "    <tr>\n",
       "      <th>3</th>\n",
       "      <td>4</td>\n",
       "      <td>JANAKANTHA</td>\n",
       "      <td>4-Jan-15</td>\n",
       "      <td>GAZIPUR</td>\n",
       "      <td>SREEPUR</td>\n",
       "      <td>5</td>\n",
       "      <td>8</td>\n",
       "      <td>6</td>\n",
       "      <td>5</td>\n",
       "    </tr>\n",
       "    <tr>\n",
       "      <th>4</th>\n",
       "      <td>5</td>\n",
       "      <td>JANAKANTHA</td>\n",
       "      <td>5-Jan-15</td>\n",
       "      <td>RAJSHAHI</td>\n",
       "      <td>RAJPARA</td>\n",
       "      <td>7</td>\n",
       "      <td>5</td>\n",
       "      <td>6</td>\n",
       "      <td>5</td>\n",
       "    </tr>\n",
       "  </tbody>\n",
       "</table>\n",
       "</div>"
      ],
      "text/plain": [
       "   Serial Number Name of the Data Collect Source      Date  \\\n",
       "0              1                      JANAKANTHA  1-Jan-15   \n",
       "1              2                      JANAKANTHA  2-Jan-15   \n",
       "2              3                      JANAKANTHA  3-Jan-15   \n",
       "3              4                      JANAKANTHA  4-Jan-15   \n",
       "4              5                      JANAKANTHA  5-Jan-15   \n",
       "\n",
       "  District where death(s) happened  \\\n",
       "0                            PABNA   \n",
       "1                          GAZIPUR   \n",
       "2                          RANGPUR   \n",
       "3                          GAZIPUR   \n",
       "4                         RAJSHAHI   \n",
       "\n",
       "  Thana/Upazilla/Pourasava where Accident Happened  Number of Accident  \\\n",
       "0                                             BERA                   8   \n",
       "1                                           TONGI                    4   \n",
       "2                                        BADARGANJ                   9   \n",
       "3                                          SREEPUR                   5   \n",
       "4                                          RAJPARA                   7   \n",
       "\n",
       "   Number of Death  Number of Injury  \\\n",
       "0                9                 4   \n",
       "1                1                 7   \n",
       "2                3                12   \n",
       "3                8                 6   \n",
       "4                5                 6   \n",
       "\n",
       "   Age of Victim (Maximum Number of Accident Occurred in One Age Group)  \n",
       "0                                                  4                     \n",
       "1                                                  4                     \n",
       "2                                                  3                     \n",
       "3                                                  5                     \n",
       "4                                                  5                     "
      ]
     },
     "execution_count": 9,
     "metadata": {},
     "output_type": "execute_result"
    }
   ],
   "source": [
    "data.head()"
   ]
  },
  {
   "cell_type": "code",
   "execution_count": 10,
   "metadata": {},
   "outputs": [
    {
     "data": {
      "text/plain": [
       "<seaborn.axisgrid.FacetGrid at 0x2a055969cd0>"
      ]
     },
     "execution_count": 10,
     "metadata": {},
     "output_type": "execute_result"
    },
    {
     "data": {
      "image/png": "[encoded data removed]",
      "text/plain": [
       "<Figure size 360x360 with 1 Axes>"
      ]
     },
     "metadata": {
      "needs_background": "light"
     },
     "output_type": "display_data"
    }
   ],
   "source": [
    "sns.relplot(x='Date' , y='Number of Accident', data = data)"
   ]
  },
  {
   "cell_type": "code",
   "execution_count": 11,
   "metadata": {},
   "outputs": [
    {
     "data": {
      "text/plain": [
       "<seaborn.axisgrid.FacetGrid at 0x2a05a65a3d0>"
      ]
     },
     "execution_count": 11,
     "metadata": {},
     "output_type": "execute_result"
    },
    {
     "data": {
      "image/png": "[encoded data removed]",
      "text/plain": [
       "<Figure size 360x360 with 1 Axes>"
      ]
     },
     "metadata": {
      "needs_background": "light"
     },
     "output_type": "display_data"
    }
   ],
   "source": [
    "sns.relplot(x='District where death(s) happened' , y='Number of Accident', data = data)"
   ]
  },
  {
   "cell_type": "code",
   "execution_count": 12,
   "metadata": {},
   "outputs": [
    {
     "data": {
      "text/plain": [
       "<seaborn.axisgrid.FacetGrid at 0x2a05c4491c0>"
      ]
     },
     "execution_count": 12,
     "metadata": {},
     "output_type": "execute_result"
    },
    {
     "data": {
      "image/png": "[encoded data removed]",
      "text/plain": [
       "<Figure size 360x360 with 1 Axes>"
      ]
     },
     "metadata": {
      "needs_background": "light"
     },
     "output_type": "display_data"
    }
   ],
   "source": [
    "sns.relplot(x='Number of Death' , y='Number of Injury', data = data)"
   ]
  },
  {
   "cell_type": "code",
   "execution_count": 13,
   "metadata": {},
   "outputs": [
    {
     "data": {
      "text/html": [
       "<div>\n",
       "<style scoped>\n",
       "    .dataframe tbody tr th:only-of-type {\n",
       "        vertical-align: middle;\n",
       "    }\n",
       "\n",
       "    .dataframe tbody tr th {\n",
       "        vertical-align: top;\n",
       "    }\n",
       "\n",
       "    .dataframe thead th {\n",
       "        text-align: right;\n",
       "    }\n",
       "</style>\n",
       "<table border=\"1\" class=\"dataframe\">\n",
       "  <thead>\n",
       "    <tr style=\"text-align: right;\">\n",
       "      <th></th>\n",
       "      <th>Serial Number</th>\n",
       "      <th>Name of the Data Collect Source</th>\n",
       "      <th>Date</th>\n",
       "      <th>District where death(s) happened</th>\n",
       "      <th>Thana/Upazilla/Pourasava where Accident Happened</th>\n",
       "      <th>Number of Accident</th>\n",
       "      <th>Number of Death</th>\n",
       "      <th>Number of Injury</th>\n",
       "      <th>Age of Victim (Maximum Number of Accident Occurred in One Age Group)</th>\n",
       "    </tr>\n",
       "  </thead>\n",
       "  <tbody>\n",
       "    <tr>\n",
       "      <th>0</th>\n",
       "      <td>1</td>\n",
       "      <td>JANAKANTHA</td>\n",
       "      <td>1-Jan-15</td>\n",
       "      <td>PABNA</td>\n",
       "      <td>BERA</td>\n",
       "      <td>8</td>\n",
       "      <td>9</td>\n",
       "      <td>4</td>\n",
       "      <td>4</td>\n",
       "    </tr>\n",
       "    <tr>\n",
       "      <th>1</th>\n",
       "      <td>2</td>\n",
       "      <td>JANAKANTHA</td>\n",
       "      <td>2-Jan-15</td>\n",
       "      <td>GAZIPUR</td>\n",
       "      <td>TONGI</td>\n",
       "      <td>4</td>\n",
       "      <td>1</td>\n",
       "      <td>7</td>\n",
       "      <td>4</td>\n",
       "    </tr>\n",
       "    <tr>\n",
       "      <th>2</th>\n",
       "      <td>3</td>\n",
       "      <td>JANAKANTHA</td>\n",
       "      <td>3-Jan-15</td>\n",
       "      <td>RANGPUR</td>\n",
       "      <td>BADARGANJ</td>\n",
       "      <td>9</td>\n",
       "      <td>3</td>\n",
       "      <td>12</td>\n",
       "      <td>3</td>\n",
       "    </tr>\n",
       "    <tr>\n",
       "      <th>3</th>\n",
       "      <td>4</td>\n",
       "      <td>JANAKANTHA</td>\n",
       "      <td>4-Jan-15</td>\n",
       "      <td>GAZIPUR</td>\n",
       "      <td>SREEPUR</td>\n",
       "      <td>5</td>\n",
       "      <td>8</td>\n",
       "      <td>6</td>\n",
       "      <td>5</td>\n",
       "    </tr>\n",
       "    <tr>\n",
       "      <th>4</th>\n",
       "      <td>5</td>\n",
       "      <td>JANAKANTHA</td>\n",
       "      <td>5-Jan-15</td>\n",
       "      <td>RAJSHAHI</td>\n",
       "      <td>RAJPARA</td>\n",
       "      <td>7</td>\n",
       "      <td>5</td>\n",
       "      <td>6</td>\n",
       "      <td>5</td>\n",
       "    </tr>\n",
       "  </tbody>\n",
       "</table>\n",
       "</div>"
      ],
      "text/plain": [
       "   Serial Number Name of the Data Collect Source      Date  \\\n",
       "0              1                      JANAKANTHA  1-Jan-15   \n",
       "1              2                      JANAKANTHA  2-Jan-15   \n",
       "2              3                      JANAKANTHA  3-Jan-15   \n",
       "3              4                      JANAKANTHA  4-Jan-15   \n",
       "4              5                      JANAKANTHA  5-Jan-15   \n",
       "\n",
       "  District where death(s) happened  \\\n",
       "0                            PABNA   \n",
       "1                          GAZIPUR   \n",
       "2                          RANGPUR   \n",
       "3                          GAZIPUR   \n",
       "4                         RAJSHAHI   \n",
       "\n",
       "  Thana/Upazilla/Pourasava where Accident Happened  Number of Accident  \\\n",
       "0                                             BERA                   8   \n",
       "1                                           TONGI                    4   \n",
       "2                                        BADARGANJ                   9   \n",
       "3                                          SREEPUR                   5   \n",
       "4                                          RAJPARA                   7   \n",
       "\n",
       "   Number of Death  Number of Injury  \\\n",
       "0                9                 4   \n",
       "1                1                 7   \n",
       "2                3                12   \n",
       "3                8                 6   \n",
       "4                5                 6   \n",
       "\n",
       "   Age of Victim (Maximum Number of Accident Occurred in One Age Group)  \n",
       "0                                                  4                     \n",
       "1                                                  4                     \n",
       "2                                                  3                     \n",
       "3                                                  5                     \n",
       "4                                                  5                     "
      ]
     },
     "execution_count": 13,
     "metadata": {},
     "output_type": "execute_result"
    }
   ],
   "source": [
    "#model\n",
    "data.head()"
   ]
  },
  {
   "cell_type": "code",
   "execution_count": 14,
   "metadata": {},
   "outputs": [],
   "source": [
    "from sklearn.linear_model import LinearRegression\n",
    "from sklearn.model_selection import train_test_split"
   ]
  },
  {
   "cell_type": "code",
   "execution_count": 15,
   "metadata": {},
   "outputs": [],
   "source": [
    "train=data.drop(['Date','District where death(s) happened','Number of Accident'], axis=1)\n",
    "test=data['Number of Accident']"
   ]
  },
  {
   "cell_type": "code",
   "execution_count": 17,
   "metadata": {},
   "outputs": [],
   "source": [
    "x_train,x_test,y_train,y_test=train_test_split(train,test,test_size=0.3,random_state=2)"
   ]
  },
  {
   "cell_type": "code",
   "execution_count": 40,
   "metadata": {},
   "outputs": [],
   "source": [
    "regr=LinearRegression()"
   ]
  }
 ],
 "metadata": {
  "kernelspec": {
   "display_name": "Python 3",
   "language": "python",
   "name": "python3"
  },
  "language_info": {
   "codemirror_mode": {
    "name": "ipython",
    "version": 3
   },
   "file_extension": ".py",
   "mimetype": "text/x-python",
   "name": "python",
   "nbconvert_exporter": "python",
   "pygments_lexer": "ipython3",
   "version": "3.8.5"
  }
 },
 "nbformat": 4,
 "nbformat_minor": 5
}
